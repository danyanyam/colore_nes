{
 "cells": [
  {
   "cell_type": "code",
   "execution_count": 20,
   "metadata": {},
   "outputs": [],
   "source": [
    "from src.utils import get_imgs_paths, get_root_path\n",
    "import random"
   ]
  },
  {
   "cell_type": "code",
   "execution_count": 22,
   "metadata": {},
   "outputs": [
    {
     "name": "stdout",
     "output_type": "stream",
     "text": [
      "1186\n",
      "3692\n"
     ]
    }
   ],
   "source": [
    "imgs = get_imgs_paths()\n",
    "\n",
    "random.seed(10)\n",
    "test = random.choices(imgs, k=round(0.25 * len(imgs)))\n",
    "train = set(imgs) - set(test)\n",
    "\n",
    "train = [str(i) + '\\n' for i in train]\n",
    "test = [str(i) + '\\n' for i in test]\n",
    "print(len(test))\n",
    "print(len(train))\n",
    "\n",
    "with open(get_root_path() / 'data/interim/train.txt', 'w') as f:\n",
    "    f.writelines(train)\n",
    "    \n",
    "with open(get_root_path() / 'data/interim/test.txt', 'w') as f:\n",
    "    f.writelines(test)"
   ]
  }
 ],
 "metadata": {
  "kernelspec": {
   "display_name": "Python 3.9.6 ('env': venv)",
   "language": "python",
   "name": "python3"
  },
  "language_info": {
   "codemirror_mode": {
    "name": "ipython",
    "version": 3
   },
   "file_extension": ".py",
   "mimetype": "text/x-python",
   "name": "python",
   "nbconvert_exporter": "python",
   "pygments_lexer": "ipython3",
   "version": "3.9.6"
  },
  "orig_nbformat": 4,
  "vscode": {
   "interpreter": {
    "hash": "6b082ae4c46541cf7f2c0131233d661b9644feadb59bbba1cb86d50f8c18ba97"
   }
  }
 },
 "nbformat": 4,
 "nbformat_minor": 2
}
