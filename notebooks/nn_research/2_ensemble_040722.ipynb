{
 "cells": [
  {
   "cell_type": "markdown",
   "metadata": {},
   "source": [
    "Сделаем ансамбль из 100 моделей, каждая из которых будет говорить является ли очередной коллаж \n",
    "лидером по конкретной характеристике, или нет. Лидер характеристики - тот коллаж, у которого \n",
    "ранжирование определенной характеристики равно 5."
   ]
  },
  {
   "cell_type": "code",
   "execution_count": 99,
   "metadata": {},
   "outputs": [],
   "source": [
    "import catboost\n",
    "\n",
    "from tqdm.notebook import tqdm\n",
    "import pandas as pd\n",
    "import numpy as np\n",
    "from sklearn.metrics import f1_score\n",
    "from sklearn.model_selection import train_test_split\n",
    "from src.utils import get_root_path\n"
   ]
  },
  {
   "cell_type": "code",
   "execution_count": 229,
   "metadata": {},
   "outputs": [],
   "source": [
    "rankings = pd.read_csv(get_root_path() / 'data/interim/attributes.csv',\n",
    "                       index_col=0).set_index('fileName').filter(regex='_no', axis=1).sort_index()\n",
    "embs = pd.read_csv(get_root_path() / 'data/interim/inception_v3_whole_collages.csv',\n",
    "                   index_col=0).set_index('fileName').sort_index()\n"
   ]
  },
  {
   "cell_type": "code",
   "execution_count": 230,
   "metadata": {},
   "outputs": [
    {
     "data": {
      "application/vnd.jupyter.widget-view+json": {
       "model_id": "66db171c082a4b78aa87b4563a366cf2",
       "version_major": 2,
       "version_minor": 0
      },
      "text/plain": [
       "  0%|          | 0/47 [00:00<?, ?it/s]"
      ]
     },
     "metadata": {},
     "output_type": "display_data"
    },
    {
     "data": {
      "application/vnd.jupyter.widget-view+json": {
       "model_id": "dd984bdee20847599c3e70a79af0a0e1",
       "version_major": 2,
       "version_minor": 0
      },
      "text/plain": [
       "  0%|          | 0/47 [00:00<?, ?it/s]"
      ]
     },
     "metadata": {},
     "output_type": "display_data"
    }
   ],
   "source": [
    "class Model:\n",
    "    def __init__(self, attribute, target, embs, test_size=None,\n",
    "                 random_state=None):\n",
    "\n",
    "        self._attribute = attribute\n",
    "        self._target = target\n",
    "        self._embs = embs\n",
    "        self._test_size = test_size\n",
    "        self._random_state = random_state\n",
    "        self._model = catboost.CatBoostClassifier(iterations=200,\n",
    "                                                  depth=3,\n",
    "                                                  learning_rate=0.5,\n",
    "                                                  loss_function='MultiClass',\n",
    "                                                  eval_metric='Accuracy')\n",
    "        self._test = None\n",
    "        self._train = None\n",
    "\n",
    "    def train(self):\n",
    "\n",
    "        X_train, X_test, y_train, y_test = train_test_split(self._embs,\n",
    "                                                            self._target,\n",
    "                                                            test_size=self._test_size,\n",
    "                                                            random_state=self._random_state,\n",
    "                                                            stratify=self._target)\n",
    "\n",
    "        self._model.fit(\n",
    "            X_train, y_train,\n",
    "            eval_set=(X_test, y_test),\n",
    "            verbose=False\n",
    "        )\n",
    "\n",
    "    def predict(self, new_data):\n",
    "        return self._model.predict_proba(new_data)\n",
    "\n",
    "\n",
    "class Ensemble:\n",
    "    def __init__(self, test_size=0.1, random_state=43):\n",
    "        self.models = {}\n",
    "        self.trains = None\n",
    "        self.tests = None\n",
    "        self.embs = None\n",
    "        self.test_size = test_size\n",
    "        self.random_state = random_state\n",
    "\n",
    "    def append(self, attribute, target):\n",
    "        self.models.update(\n",
    "            {attribute: Model(attribute,\n",
    "                              target,\n",
    "                              self.embs,\n",
    "                              self.test_size,\n",
    "                              self.random_state)})\n",
    "\n",
    "    def train(self, X_train, y_train):\n",
    "\n",
    "        self.embs = X_train\n",
    "\n",
    "        for fileName, col in y_train.iteritems():\n",
    "            self.append(fileName, col.values)\n",
    "\n",
    "        for key, model in tqdm(self.models.items()):\n",
    "            model.train()\n",
    "\n",
    "    def predict(self, new_data):\n",
    "        probas = {}\n",
    "        for key, model in tqdm(self.models.items()):\n",
    "            proba = model.predict(new_data)\n",
    "            probas.update({key: proba})\n",
    "        return probas\n",
    "\n",
    "\n",
    "X_train, X_test, y_train, y_test = train_test_split(embs,\n",
    "                                                    rankings,\n",
    "                                                    test_size=0.33,\n",
    "                                                    random_state=70)\n",
    "\n",
    "\n",
    "model = Ensemble()\n",
    "model.train(X_train.values, y_train)\n",
    "results = model.predict(X_test)\n",
    "\n"
   ]
  },
  {
   "cell_type": "code",
   "execution_count": 231,
   "metadata": {},
   "outputs": [],
   "source": [
    "votes = {}\n",
    "f_score = {}\n",
    "accuracy = {}\n",
    "\n",
    "for m, proba in results.items():\n",
    "    votes.update({m: proba.argmax(axis=1)})\n",
    "    f_score.update({m: f1_score(votes[m], y_test[m], average='macro')})\n",
    "    accuracy.update({m: (votes[m] == y_test[m]).mean()})\n"
   ]
  },
  {
   "cell_type": "code",
   "execution_count": 233,
   "metadata": {},
   "outputs": [
    {
     "data": {
      "text/plain": [
       "[('technical_no', 0.020325203252032516),\n",
       " ('rugged_no', 0.03677592011740669),\n",
       " ('masculine_no', 0.05637275783081073),\n",
       " ('glamorous_no', 0.08203984513412393),\n",
       " ('daring_no', 0.08439764521422108),\n",
       " ('smallTown_no', 0.09691323253885076),\n",
       " ('upperClass_no', 0.1083145096866195),\n",
       " ('feminine_no', 0.11874258061821276),\n",
       " ('reliable_no', 0.1196299345463131),\n",
       " ('independent_no', 0.12054991689178),\n",
       " ('tough_no', 0.12165153818710633),\n",
       " ('dynamic_no', 0.1222797452867419),\n",
       " ('western_no', 0.1234096426863157),\n",
       " ('contemporary_no', 0.12489213636972589),\n",
       " ('cool_no', 0.12689270893520507),\n",
       " ('spirited_no', 0.12896073417142404),\n",
       " ('charming_no', 0.12942328038687348),\n",
       " ('original_no', 0.1311129082810746),\n",
       " ('wholesome_no', 0.13176102148724364),\n",
       " ('outdoorsy_no', 0.13179663666063848),\n",
       " ('young_no', 0.1327794621801258),\n",
       " ('trendy_no', 0.13298279550688538),\n",
       " ('innovative_no', 0.13397032184103355),\n",
       " ('leader_no', 0.13477438311139925),\n",
       " ('downToEarth_no', 0.13591493017520173),\n",
       " ('familyOriented_no', 0.1367266452824523),\n",
       " ('successful_no', 0.13685698623813508),\n",
       " ('different_no', 0.13758071768666244),\n",
       " ('sentimental_no', 0.13799176075426053),\n",
       " ('intelligent_no', 0.1381015123373432),\n",
       " ('hardWorking_no', 0.1387645878057649),\n",
       " ('sincere_no', 0.13960274801087139),\n",
       " ('goodLooking_no', 0.1398397775892873),\n",
       " ('corporate_no', 0.14038968478855987),\n",
       " ('imaginative_no', 0.141894376265872),\n",
       " ('secure_no', 0.14265436754166952),\n",
       " ('distinctive_no', 0.14316587051511354),\n",
       " ('unique_no', 0.1442763684558603),\n",
       " ('friendly_no', 0.1478106164058831),\n",
       " ('cheerful_no', 0.14800948041649423),\n",
       " ('real_no', 0.14949745769775777),\n",
       " ('highQuality_no', 0.1519557165180942),\n",
       " ('exciting_no', 0.15235717877071975),\n",
       " ('honest_no', 0.1533153917500159),\n",
       " ('smooth_no', 0.15466256253186114),\n",
       " ('upToDate_no', 0.1558372289021956),\n",
       " ('confident_no', 0.15681060729643903)]"
      ]
     },
     "execution_count": 233,
     "metadata": {},
     "output_type": "execute_result"
    }
   ],
   "source": [
    "sorted(f_score.items(), key=lambda x: x[-1])\n"
   ]
  },
  {
   "cell_type": "code",
   "execution_count": null,
   "metadata": {},
   "outputs": [],
   "source": []
  }
 ],
 "metadata": {
  "kernelspec": {
   "display_name": "Python 3.9.6 ('env': venv)",
   "language": "python",
   "name": "python3"
  },
  "language_info": {
   "codemirror_mode": {
    "name": "ipython",
    "version": 3
   },
   "file_extension": ".py",
   "mimetype": "text/x-python",
   "name": "python",
   "nbconvert_exporter": "python",
   "pygments_lexer": "ipython3",
   "version": "3.9.6"
  },
  "orig_nbformat": 4,
  "vscode": {
   "interpreter": {
    "hash": "6b082ae4c46541cf7f2c0131233d661b9644feadb59bbba1cb86d50f8c18ba97"
   }
  }
 },
 "nbformat": 4,
 "nbformat_minor": 2
}
