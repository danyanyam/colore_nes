{
 "cells": [
  {
   "cell_type": "code",
   "execution_count": 16,
   "metadata": {},
   "outputs": [
    {
     "name": "stdout",
     "output_type": "stream",
     "text": [
      "The autoreload extension is already loaded. To reload it, use:\n",
      "  %reload_ext autoreload\n"
     ]
    }
   ],
   "source": [
    "import pandas as pd\n",
    "\n",
    "from src.utils import get_imgs_paths, get_user_info, get_root_path\n",
    "\n",
    "# OPTIONAL: Load the \"autoreload\" extension so that code can change\n",
    "%load_ext autoreload\n"
   ]
  },
  {
   "cell_type": "code",
   "execution_count": 2,
   "metadata": {},
   "outputs": [],
   "source": [
    "imgs_path = get_imgs_paths()\n",
    "meta      = get_user_info()"
   ]
  },
  {
   "cell_type": "code",
   "execution_count": 18,
   "metadata": {},
   "outputs": [],
   "source": [
    "# save image ids from collage to txt file\n",
    "ids = set([j + '\\n' for i in meta['imageID'].str.split(', ').to_list() for j in i])\n",
    "\n",
    "with open(get_root_path()/'dropbox/files.txt', 'w') as f:\n",
    "    f.writelines(ids)\n"
   ]
  },
  {
   "cell_type": "code",
   "execution_count": 9,
   "metadata": {},
   "outputs": [],
   "source": [
    "# number of images from meta coincide with number of images in folder\n",
    "assert len(meta['fileName'].unique()) == len(imgs_path)"
   ]
  },
  {
   "cell_type": "code",
   "execution_count": 10,
   "metadata": {},
   "outputs": [
    {
     "data": {
      "image/png": "[encoded data removed]",
      "text/plain": [
       "<Figure size 432x288 with 1 Axes>"
      ]
     },
     "metadata": {
      "needs_background": "light"
     },
     "output_type": "display_data"
    }
   ],
   "source": [
    "# how many collages each brand has?\n",
    "meta['brandName'].value_counts().hist();"
   ]
  },
  {
   "cell_type": "code",
   "execution_count": 11,
   "metadata": {},
   "outputs": [
    {
     "data": {
      "text/plain": [
       "count    4743.000000\n",
       "mean       29.017155\n",
       "std         8.823973\n",
       "min         6.000000\n",
       "25%        25.466667\n",
       "50%        29.000000\n",
       "75%        33.000000\n",
       "max       248.866667\n",
       "dtype: float64"
      ]
     },
     "execution_count": 11,
     "metadata": {},
     "output_type": "execute_result"
    }
   ],
   "source": [
    "# how survey length is distributed\n",
    "dt_start = pd.to_datetime(meta['surveyStart_time'], dayfirst=True)\n",
    "dt_end = pd.to_datetime(meta['surveyEnd_time'], dayfirst=True)\n",
    "((dt_end - dt_start).dt.total_seconds() / 60).describe()"
   ]
  },
  {
   "cell_type": "code",
   "execution_count": 12,
   "metadata": {},
   "outputs": [
    {
     "name": "stdout",
     "output_type": "stream",
     "text": [
      "count    4743.000000\n",
      "mean        8.127570\n",
      "std         4.407519\n",
      "min         0.000000\n",
      "25%         6.000000\n",
      "50%         7.000000\n",
      "75%         9.233333\n",
      "max        71.816667\n",
      "dtype: float64\n"
     ]
    },
    {
     "data": {
      "image/png": "[encoded data removed]",
      "text/plain": [
       "<Figure size 432x288 with 1 Axes>"
      ]
     },
     "metadata": {
      "needs_background": "light"
     },
     "output_type": "display_data"
    }
   ],
   "source": [
    "# how collage creation length is distributed\n",
    "dt_start = pd.to_datetime(meta['collageStart_time'], dayfirst=True)\n",
    "dt_end = pd.to_datetime(meta['collageEnd_time'], dayfirst=True)\n",
    "\n",
    "print(((dt_end - dt_start).dt.total_seconds() / 60).describe())\n",
    "((dt_end - dt_start).dt.total_seconds() / 60).hist(bins=500);\n"
   ]
  },
  {
   "cell_type": "code",
   "execution_count": 13,
   "metadata": {},
   "outputs": [
    {
     "data": {
      "image/png": "[encoded data removed]",
      "text/plain": [
       "<Figure size 432x288 with 1 Axes>"
      ]
     },
     "metadata": {
      "needs_background": "light"
     },
     "output_type": "display_data"
    }
   ],
   "source": [
    "# distribution of images per collage\n",
    "imgs_per_collage = meta['imageID'].str.split(',').apply(len)\n",
    "imgs_per_collage.hist();"
   ]
  },
  {
   "cell_type": "markdown",
   "metadata": {},
   "source": [
    "    feedback           - answer to the sueveyed person?\n",
    "    status             - approved/Rejected/Pending\n",
    "    description        - text with details (\"It's lively and bright and sparkly.  It's young and exciting.\")\n",
    "    surveyStart_time\n",
    "    surveyEnd_time\n",
    "    collageStart_time\n",
    "    collageEnd_time\n",
    "    imageID            - ids for image within collage\n",
    "    imageDimensions    - size of each image in the collage\n",
    "    imageLayerNumber   - layer num of each image\n",
    "    imagePos           - 4-dimensional array of (x, y) pairs, containing corners of images\n",
    "    imageOrientation   - was it rotated?\n",
    "    searchWords        - which words have been used to search for the image\n",
    "    "
   ]
  },
  {
   "cell_type": "code",
   "execution_count": 14,
   "metadata": {},
   "outputs": [
    {
     "data": {
      "text/plain": [
       "'Great job! We would love to keep working with you :)'"
      ]
     },
     "execution_count": 14,
     "metadata": {},
     "output_type": "execute_result"
    }
   ],
   "source": [
    "meta['feedback'].sample(1).iloc[0]"
   ]
  },
  {
   "cell_type": "code",
   "execution_count": 15,
   "metadata": {},
   "outputs": [
    {
     "data": {
      "text/plain": [
       "'I picked images that evoked a sense of fun.'"
      ]
     },
     "execution_count": 15,
     "metadata": {},
     "output_type": "execute_result"
    }
   ],
   "source": [
    "meta['description'].sample(1).iloc[0]"
   ]
  },
  {
   "cell_type": "code",
   "execution_count": 16,
   "metadata": {},
   "outputs": [
    {
     "data": {
      "text/plain": [
       "'61938, 45136, 34274, 61889, 88772, 11675, 48191, 22008, 52553, 946, 75550, 56948, 31872, 5814'"
      ]
     },
     "execution_count": 16,
     "metadata": {},
     "output_type": "execute_result"
    }
   ],
   "source": [
    "meta['imageID'].sample(1).iloc[0]"
   ]
  },
  {
   "cell_type": "code",
   "execution_count": 17,
   "metadata": {},
   "outputs": [
    {
     "data": {
      "text/plain": [
       "'(842.883,549.717), (247.917,165.117), (247.917,165.117), (284.683,165.117), (220.15,165.117), (180.917,131.117), (317.8,225.117), (346.017,238.05), (247.917,165.117), (247.917,165.117), (134.667,107.117), (165.12,165.12)'"
      ]
     },
     "execution_count": 17,
     "metadata": {},
     "output_type": "execute_result"
    }
   ],
   "source": [
    "meta['imageDimensions'].sample(1).iloc[0]"
   ]
  },
  {
   "cell_type": "code",
   "execution_count": 18,
   "metadata": {},
   "outputs": [
    {
     "data": {
      "text/plain": [
       "'1, 2, 3, 4, 5, 6, 7, 8, 9, 10'"
      ]
     },
     "execution_count": 18,
     "metadata": {},
     "output_type": "execute_result"
    }
   ],
   "source": [
    "meta['imageLayerNumber'].sample(1).iloc[0]"
   ]
  },
  {
   "cell_type": "code",
   "execution_count": 19,
   "metadata": {},
   "outputs": [
    {
     "data": {
      "text/plain": [
       "'[(0.0000,0.0000),(587.5780,0.0000),(587.5780,-293.1090),(0.0000,-293.1090)], [(343.6905,-125.1801),(662.9111,-220.3631),(730.9487,-448.5446),(411.7281,-353.3615)], [(578.4060,-149.9060),(843.0000,-149.9060),(843.0000,-315.0150),(578.4060,-315.0150)], [(260.4327,-289.2837),(653.6973,-377.5437),(717.8316,-663.3103),(324.5670,-575.0503)], [(622.8590,-4.0000),(843.0000,-4.0000),(843.0000,-169.1090),(622.8590,-169.1090)], [(94.1299,-187.7220),(373.6176,-327.8662),(485.2010,-550.3955),(205.7133,-410.2513)], [(0.0000,-384.8910),(260.4220,-384.8910),(260.4220,-550.0000),(0.0000,-550.0000)], [(393.4837,-205.5321),(755.7226,-147.6891),(712.9705,-415.4223),(350.7316,-473.2652)], [(527.0272,-254.8837),(750.5828,-209.8469),(717.9756,-371.7041),(494.4200,-416.7409)]'"
      ]
     },
     "execution_count": 19,
     "metadata": {},
     "output_type": "execute_result"
    }
   ],
   "source": [
    "meta['imagePos'].sample(1).iloc[0]"
   ]
  },
  {
   "cell_type": "code",
   "execution_count": 20,
   "metadata": {},
   "outputs": [
    {
     "data": {
      "text/plain": [
       "'0, 0, 0, 0, 0, -0.264033, 0.4182, -0.373982, 0.606821'"
      ]
     },
     "execution_count": 20,
     "metadata": {},
     "output_type": "execute_result"
    }
   ],
   "source": [
    "meta['imageOrientation'].sample(1).iloc[0]"
   ]
  },
  {
   "cell_type": "code",
   "execution_count": 21,
   "metadata": {},
   "outputs": [
    {
     "data": {
      "text/plain": [
       "'bathroom, sky, sunny day, smiling people, smiling'"
      ]
     },
     "execution_count": 21,
     "metadata": {},
     "output_type": "execute_result"
    }
   ],
   "source": [
    "meta['searchWords'].sample(1).iloc[0]"
   ]
  },
  {
   "cell_type": "code",
   "execution_count": null,
   "metadata": {},
   "outputs": [],
   "source": []
  }
 ],
 "metadata": {
  "kernelspec": {
   "display_name": "Python 3.9.6 ('env': venv)",
   "language": "python",
   "name": "python3"
  },
  "language_info": {
   "codemirror_mode": {
    "name": "ipython",
    "version": 3
   },
   "file_extension": ".py",
   "mimetype": "text/x-python",
   "name": "python",
   "nbconvert_exporter": "python",
   "pygments_lexer": "ipython3",
   "version": "3.9.6"
  },
  "orig_nbformat": 4,
  "vscode": {
   "interpreter": {
    "hash": "6b082ae4c46541cf7f2c0131233d661b9644feadb59bbba1cb86d50f8c18ba97"
   }
  }
 },
 "nbformat": 4,
 "nbformat_minor": 2
}
